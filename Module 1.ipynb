{
  "cells": [
    {
      "metadata": {
        "collapsed": true
      },
      "cell_type": "markdown",
      "source": "# Microsoft Python Absolute Beginner\n#1 Module 1\n#2 Practice\n"
    },
    {
      "metadata": {
        "trusted": false
      },
      "cell_type": "code",
      "source": "print (\"Hello World with double quotes\")\nprint ('Hello World with single quotes')",
      "execution_count": 1,
      "outputs": [
        {
          "name": "stdout",
          "output_type": "stream",
          "text": "Hello World with double quotes\nHello World with single quotes\n"
        }
      ]
    },
    {
      "metadata": {
        "trusted": false
      },
      "cell_type": "code",
      "source": "print (299)\nprint (\"299\")\n",
      "execution_count": 2,
      "outputs": [
        {
          "name": "stdout",
          "output_type": "stream",
          "text": "299\n299\n"
        }
      ]
    },
    {
      "metadata": {
        "trusted": false
      },
      "cell_type": "code",
      "source": "current_msg = \"Run this cell using Ctrl+Enter.And Now \"\nprint (\"I am a string\")\nprint (current_msg, \"Hola amigou\")\n",
      "execution_count": 3,
      "outputs": [
        {
          "name": "stdout",
          "output_type": "stream",
          "text": "I am a string\nRun this cell using Ctrl+Enter.And Now  Hola amigou\n"
        }
      ]
    },
    {
      "metadata": {
        "trusted": false
      },
      "cell_type": "code",
      "source": "print (current_msg)",
      "execution_count": 4,
      "outputs": [
        {
          "name": "stdout",
          "output_type": "stream",
          "text": "Run this cell using Ctrl+Enter.And Now \n"
        }
      ]
    },
    {
      "metadata": {
        "trusted": false
      },
      "cell_type": "code",
      "source": "name = \"Felipe Puido\"\nprint (name)\ntest_value = 13\nprint (test_value)\nbucket = 1255\nprint(bucket)\n",
      "execution_count": 7,
      "outputs": [
        {
          "name": "stdout",
          "output_type": "stream",
          "text": "Felipe Puido\n13\n1255\n"
        }
      ]
    },
    {
      "metadata": {
        "trusted": false
      },
      "cell_type": "code",
      "source": "print(type(bucket),type(name))\n",
      "execution_count": 10,
      "outputs": [
        {
          "name": "stdout",
          "output_type": "stream",
          "text": "<class 'int'> <class 'str'>\n"
        }
      ]
    },
    {
      "metadata": {
        "trusted": false
      },
      "cell_type": "code",
      "source": "type('122')",
      "execution_count": 15,
      "outputs": [
        {
          "data": {
            "text/plain": "str"
          },
          "execution_count": 15,
          "metadata": {},
          "output_type": "execute_result"
        }
      ]
    },
    {
      "metadata": {
        "trusted": false
      },
      "cell_type": "code",
      "source": "print(2+5)\nprint(\"Ana\",\"Feli\")",
      "execution_count": 23,
      "outputs": [
        {
          "name": "stdout",
          "output_type": "stream",
          "text": "7\nAna Feli\n"
        }
      ]
    },
    {
      "metadata": {
        "trusted": false
      },
      "cell_type": "code",
      "source": "print(\"    *\")\nprint(\"   * *\")\nprint(\"  *****\")\nprint(\" *     *\")\nprint(\"\")\n",
      "execution_count": 27,
      "outputs": [
        {
          "name": "stdout",
          "output_type": "stream",
          "text": "    *\n   * *\n  *****\n *     *\n\n"
        }
      ]
    },
    {
      "metadata": {
        "trusted": false
      },
      "cell_type": "code",
      "source": "print(\"enter a small int: \")\nsmall_int = input()\nprint(\"small int: \")\nprint(small_int)\n",
      "execution_count": 2,
      "outputs": [
        {
          "name": "stdout",
          "output_type": "stream",
          "text": "enter a small int: \n2\nsmall int: \n2\n"
        }
      ]
    },
    {
      "metadata": {
        "trusted": false
      },
      "cell_type": "code",
      "source": "print(\"Enter Name:\")\nstudent_name = input()\ntype(student_name)",
      "execution_count": 1,
      "outputs": [
        {
          "name": "stdout",
          "output_type": "stream",
          "text": "Enter Name:\nFelipe\n"
        },
        {
          "data": {
            "text/plain": "str"
          },
          "execution_count": 1,
          "metadata": {},
          "output_type": "execute_result"
        }
      ]
    },
    {
      "metadata": {
        "trusted": false
      },
      "cell_type": "code",
      "source": "print(\"Type name or number\")\ntest_input = input()\ntype(test_input)\n",
      "execution_count": 7,
      "outputs": [
        {
          "name": "stdout",
          "output_type": "stream",
          "text": "Type name or number\n12\n"
        },
        {
          "data": {
            "text/plain": "str"
          },
          "execution_count": 7,
          "metadata": {},
          "output_type": "execute_result"
        }
      ]
    },
    {
      "metadata": {
        "trusted": false
      },
      "cell_type": "code",
      "source": "student_name = input(\"First Name: \")\nprint(\"Hi\",student_name+\"!\")\n",
      "execution_count": 10,
      "outputs": [
        {
          "name": "stdout",
          "output_type": "stream",
          "text": "First Name: Fede\nHi Fede!\n"
        }
      ]
    },
    {
      "metadata": {
        "trusted": false
      },
      "cell_type": "code",
      "source": "city = input(\"What's your City Name: \")\nprint(\"You live at\",city,\"City\")\n",
      "execution_count": 12,
      "outputs": [
        {
          "name": "stdout",
          "output_type": "stream",
          "text": "What's your City Name: Buenos Aires\nYou live at Buenos Aires City\n"
        }
      ]
    },
    {
      "metadata": {
        "trusted": false
      },
      "cell_type": "code",
      "source": "name = input(\"Name: \")\nage = input(\"Age: \")\nget_mail = input (\"Want to get emails: \")\nprint (\"Your Name is:\",name,\"\\nYou are\",age,\"years old\",\"\\nMailing?\",get_mail)",
      "execution_count": 2,
      "outputs": [
        {
          "name": "stdout",
          "output_type": "stream",
          "text": "Name: Fede\nAge: 36\nWant to get emails: no\nYour Name is: Fede \nYou are 36 years old \nMailing? no\n"
        }
      ]
    },
    {
      "metadata": {
        "trusted": false
      },
      "cell_type": "code",
      "source": "",
      "execution_count": null,
      "outputs": []
    }
  ],
  "metadata": {
    "kernelspec": {
      "name": "python3",
      "display_name": "Python 3",
      "language": "python"
    },
    "language_info": {
      "mimetype": "text/x-python",
      "nbconvert_exporter": "python",
      "name": "python",
      "pygments_lexer": "ipython3",
      "version": "3.5.4",
      "file_extension": ".py",
      "codemirror_mode": {
        "version": 3,
        "name": "ipython"
      }
    }
  },
  "nbformat": 4,
  "nbformat_minor": 1
}